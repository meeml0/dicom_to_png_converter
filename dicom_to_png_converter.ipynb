{
 "cells": [
  {
   "cell_type": "code",
   "execution_count": null,
   "id": "e3a6e21e",
   "metadata": {
    "vscode": {
     "languageId": "plaintext"
    }
   },
   "outputs": [],
   "source": [
    "from google.colab import drive\n",
    "drive.mount('/content/drive')"
   ]
  },
  {
   "cell_type": "code",
   "execution_count": null,
   "id": "43f9c678",
   "metadata": {
    "vscode": {
     "languageId": "plaintext"
    }
   },
   "outputs": [],
   "source": [
    "!pip install pydicom pylibjpeg pylibjpeg-libjpeg pylibjpeg-openjpeg gdcm\n",
    "!pip install --upgrade pydicom"
   ]
  },
  {
   "cell_type": "code",
   "execution_count": null,
   "id": "967e75e1",
   "metadata": {
    "vscode": {
     "languageId": "plaintext"
    }
   },
   "outputs": [],
   "source": [
    "import os\n",
    "import cv2\n",
    "import pydicom\n",
    "import numpy as np\n",
    "from tqdm import tqdm\n",
    "\n",
    "d_dcm = \"dcm File Path\"\n",
    "d_png = \"png File Path\"\n",
    "os.makedirs(d_png, exist_ok=True)\n",
    "\n",
    "def normalize_image(img):\n",
    "    img = img - np.min(img)\n",
    "    img = img / np.max(img)\n",
    "    img = (img * 255).astype(np.uint8)\n",
    "    return cv2.resize(img, (256, 256))\n",
    "\n",
    "idx = 0\n",
    "print(f\"Processing files in {d_dcm}...\")\n",
    "for file in tqdm(os.listdir(d_dcm), desc=\"Processing DICOM files\"):\n",
    "    if file.lower().endswith(\".dcm\"):\n",
    "        dcm_path = os.path.join(d_dcm, file)\n",
    "        try:\n",
    "            dcm = pydicom.dcmread(dcm_path)\n",
    "            image = dcm.pixel_array\n",
    "            image = normalize_image(image)\n",
    "\n",
    "            filename = f\"image_{idx}.png\"\n",
    "            save_path = os.path.join(d_png, filename)\n",
    "\n",
    "            if cv2.imwrite(save_path, image):\n",
    "                print(f\"Saved: {filename}\")\n",
    "            else:\n",
    "                print(f\"Failed to save: {filename}\")\n",
    "\n",
    "            idx += 1\n",
    "        except Exception as e:\n",
    "            print(f\"Error processing {file}: {e}\")\n"
   ]
  }
 ],
 "metadata": {
  "language_info": {
   "name": "python"
  }
 },
 "nbformat": 4,
 "nbformat_minor": 5
}
